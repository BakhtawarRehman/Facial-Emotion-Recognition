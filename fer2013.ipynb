{
  "nbformat": 4,
  "nbformat_minor": 0,
  "metadata": {
    "kernelspec": {
      "name": "python3",
      "display_name": "Python 3"
    },
    "language_info": {
      "codemirror_mode": {
        "name": "ipython",
        "version": 3
      },
      "file_extension": ".py",
      "mimetype": "text/x-python",
      "name": "python",
      "nbconvert_exporter": "python",
      "pygments_lexer": "ipython3",
      "version": "3.6.8"
    },
    "colab": {
      "name": "fer2013 - Improved.ipynb",
      "provenance": [],
      "collapsed_sections": [],
      "toc_visible": true,
      "machine_shape": "hm",
      "include_colab_link": true
    },
    "accelerator": "GPU"
  },
  "cells": [
    {
      "cell_type": "markdown",
      "metadata": {
        "id": "view-in-github",
        "colab_type": "text"
      },
      "source": [
        "<a href=\"https://colab.research.google.com/github/BakhtawarRehman/Facial-Emotion-Recognition/blob/master/fer2013.ipynb\" target=\"_parent\"><img src=\"https://colab.research.google.com/assets/colab-badge.svg\" alt=\"Open In Colab\"/></a>"
      ]
    },
    {
      "cell_type": "code",
      "metadata": {
        "id": "9GZS2dELwhzL",
        "colab_type": "code",
        "outputId": "960d7a4d-3c53-4b53-aba3-a0b2e2be42df",
        "colab": {
          "base_uri": "https://localhost:8080/",
          "height": 34
        }
      },
      "source": [
        "try:\n",
        "  # %tensorflow_version only exists in Colab.\n",
        "  %tensorflow_version 2.x\n",
        "except Exception:\n",
        "  pass\n"
      ],
      "execution_count": 0,
      "outputs": [
        {
          "output_type": "stream",
          "text": [
            "TensorFlow 2.x selected.\n"
          ],
          "name": "stdout"
        }
      ]
    },
    {
      "cell_type": "code",
      "metadata": {
        "id": "O6gr8sVOpQrP",
        "colab_type": "code",
        "outputId": "3782b684-6244-4228-9276-d0b12c3ed771",
        "colab": {
          "base_uri": "https://localhost:8080/",
          "height": 34
        }
      },
      "source": [
        "import tarfile\n",
        "import pandas as pd\n",
        "import numpy as np\n",
        "import matplotlib.pyplot as plt\n",
        "#import keras\n",
        "#from keras.models import Sequential, Model, model_from_json\n",
        "from keras.utils import np_utils\n",
        "#from keras.callbacks import ModelCheckpoint\n",
        "#from tensorflow.keras.regularizers import l2\n",
        "import tensorflow as tf\n",
        "from tensorflow import keras\n",
        "import os\n",
        "import cv2\n",
        "\n",
        "%matplotlib inline"
      ],
      "execution_count": 0,
      "outputs": [
        {
          "output_type": "stream",
          "text": [
            "Using TensorFlow backend.\n"
          ],
          "name": "stderr"
        }
      ]
    },
    {
      "cell_type": "code",
      "metadata": {
        "id": "YBnLsnMlqLq4",
        "colab_type": "code",
        "outputId": "613195c0-663c-4302-bf35-2aec31ec7e10",
        "colab": {
          "base_uri": "https://localhost:8080/",
          "height": 34
        }
      },
      "source": [
        "from google.colab import drive\n",
        "drive.mount('/content/drive')"
      ],
      "execution_count": 0,
      "outputs": [
        {
          "output_type": "stream",
          "text": [
            "Drive already mounted at /content/drive; to attempt to forcibly remount, call drive.mount(\"/content/drive\", force_remount=True).\n"
          ],
          "name": "stdout"
        }
      ]
    },
    {
      "cell_type": "code",
      "metadata": {
        "id": "eSvf6j4ApQrX",
        "colab_type": "code",
        "outputId": "be70a48b-0c47-46ac-d10a-d8eb524bdfbe",
        "colab": {
          "base_uri": "https://localhost:8080/",
          "height": 197
        }
      },
      "source": [
        "path = '/content/drive/My Drive/fer2013.csv'\n",
        "data = pd.read_csv(path)\n",
        "data.head()"
      ],
      "execution_count": 0,
      "outputs": [
        {
          "output_type": "execute_result",
          "data": {
            "text/html": [
              "<div>\n",
              "<style scoped>\n",
              "    .dataframe tbody tr th:only-of-type {\n",
              "        vertical-align: middle;\n",
              "    }\n",
              "\n",
              "    .dataframe tbody tr th {\n",
              "        vertical-align: top;\n",
              "    }\n",
              "\n",
              "    .dataframe thead th {\n",
              "        text-align: right;\n",
              "    }\n",
              "</style>\n",
              "<table border=\"1\" class=\"dataframe\">\n",
              "  <thead>\n",
              "    <tr style=\"text-align: right;\">\n",
              "      <th></th>\n",
              "      <th>emotion</th>\n",
              "      <th>pixels</th>\n",
              "      <th>Usage</th>\n",
              "    </tr>\n",
              "  </thead>\n",
              "  <tbody>\n",
              "    <tr>\n",
              "      <th>0</th>\n",
              "      <td>0</td>\n",
              "      <td>70 80 82 72 58 58 60 63 54 58 60 48 89 115 121...</td>\n",
              "      <td>Training</td>\n",
              "    </tr>\n",
              "    <tr>\n",
              "      <th>1</th>\n",
              "      <td>0</td>\n",
              "      <td>151 150 147 155 148 133 111 140 170 174 182 15...</td>\n",
              "      <td>Training</td>\n",
              "    </tr>\n",
              "    <tr>\n",
              "      <th>2</th>\n",
              "      <td>2</td>\n",
              "      <td>231 212 156 164 174 138 161 173 182 200 106 38...</td>\n",
              "      <td>Training</td>\n",
              "    </tr>\n",
              "    <tr>\n",
              "      <th>3</th>\n",
              "      <td>4</td>\n",
              "      <td>24 32 36 30 32 23 19 20 30 41 21 22 32 34 21 1...</td>\n",
              "      <td>Training</td>\n",
              "    </tr>\n",
              "    <tr>\n",
              "      <th>4</th>\n",
              "      <td>6</td>\n",
              "      <td>4 0 0 0 0 0 0 0 0 0 0 0 3 15 23 28 48 50 58 84...</td>\n",
              "      <td>Training</td>\n",
              "    </tr>\n",
              "  </tbody>\n",
              "</table>\n",
              "</div>"
            ],
            "text/plain": [
              "   emotion                                             pixels     Usage\n",
              "0        0  70 80 82 72 58 58 60 63 54 58 60 48 89 115 121...  Training\n",
              "1        0  151 150 147 155 148 133 111 140 170 174 182 15...  Training\n",
              "2        2  231 212 156 164 174 138 161 173 182 200 106 38...  Training\n",
              "3        4  24 32 36 30 32 23 19 20 30 41 21 22 32 34 21 1...  Training\n",
              "4        6  4 0 0 0 0 0 0 0 0 0 0 0 3 15 23 28 48 50 58 84...  Training"
            ]
          },
          "metadata": {
            "tags": []
          },
          "execution_count": 4
        }
      ]
    },
    {
      "cell_type": "markdown",
      "metadata": {
        "id": "u0vt3SsLvAmS",
        "colab_type": "text"
      },
      "source": [
        "This dataset is about finding the right emotion. There are seven universal facial emotions (according to many studies; some modern studies might not agree): happy, sad, angry, afraid, surprise,disgust, and neutral"
      ]
    },
    {
      "cell_type": "code",
      "metadata": {
        "id": "OwwghHhYpQra",
        "colab_type": "code",
        "outputId": "d638d1ab-079d-4d70-f2c4-6c25919aba22",
        "colab": {
          "base_uri": "https://localhost:8080/",
          "height": 87
        }
      },
      "source": [
        "data['Usage'].value_counts()"
      ],
      "execution_count": 0,
      "outputs": [
        {
          "output_type": "execute_result",
          "data": {
            "text/plain": [
              "Training       28709\n",
              "PublicTest      3589\n",
              "PrivateTest     3589\n",
              "Name: Usage, dtype: int64"
            ]
          },
          "metadata": {
            "tags": []
          },
          "execution_count": 5
        }
      ]
    },
    {
      "cell_type": "code",
      "metadata": {
        "id": "zK918diupQre",
        "colab_type": "code",
        "outputId": "c0ad363d-aa17-4fa2-a3df-a975d5aaf8bf",
        "colab": {
          "base_uri": "https://localhost:8080/",
          "height": 70
        }
      },
      "source": [
        "# Check if there are any null entries\n",
        "train = data[[\"emotion\", \"pixels\"]][data[\"Usage\"] == \"Training\"]\n",
        "train.isnull().sum()"
      ],
      "execution_count": 0,
      "outputs": [
        {
          "output_type": "execute_result",
          "data": {
            "text/plain": [
              "emotion    0\n",
              "pixels     0\n",
              "dtype: int64"
            ]
          },
          "metadata": {
            "tags": []
          },
          "execution_count": 6
        }
      ]
    },
    {
      "cell_type": "code",
      "metadata": {
        "id": "SPahN2FVpQrh",
        "colab_type": "code",
        "outputId": "03f60a82-71b9-44a6-a0da-db101ffbded6",
        "colab": {
          "base_uri": "https://localhost:8080/",
          "height": 34
        }
      },
      "source": [
        "train['pixels'] = train['pixels'].apply(lambda im: np.fromstring(im, sep=' '))\n",
        "x_train = np.vstack(train['pixels'].values)\n",
        "y_train = np.array(train[\"emotion\"])\n",
        "x_train.shape, y_train.shape"
      ],
      "execution_count": 0,
      "outputs": [
        {
          "output_type": "execute_result",
          "data": {
            "text/plain": [
              "((28709, 2304), (28709,))"
            ]
          },
          "metadata": {
            "tags": []
          },
          "execution_count": 7
        }
      ]
    },
    {
      "cell_type": "code",
      "metadata": {
        "id": "Q7rsgnJhpQrk",
        "colab_type": "code",
        "outputId": "c8e8c056-4b08-4856-8e6c-b7ea79a1fa45",
        "colab": {
          "base_uri": "https://localhost:8080/",
          "height": 34
        }
      },
      "source": [
        "train['pixels'][0]"
      ],
      "execution_count": 0,
      "outputs": [
        {
          "output_type": "execute_result",
          "data": {
            "text/plain": [
              "array([ 70.,  80.,  82., ..., 106., 109.,  82.])"
            ]
          },
          "metadata": {
            "tags": []
          },
          "execution_count": 8
        }
      ]
    },
    {
      "cell_type": "code",
      "metadata": {
        "id": "XKjrpJulpQrn",
        "colab_type": "code",
        "outputId": "bc2d1cfa-156e-425b-b175-e1d609839ad9",
        "colab": {
          "base_uri": "https://localhost:8080/",
          "height": 34
        }
      },
      "source": [
        "#For validation\n",
        "public_test_df = data[[\"emotion\", \"pixels\"]][data[\"Usage\"]==\"PublicTest\"]\n",
        "\n",
        "public_test_df[\"pixels\"] = public_test_df[\"pixels\"].apply(lambda im: np.fromstring(im, sep=' '))\n",
        "x_val = np.vstack(public_test_df[\"pixels\"].values)\n",
        "y_val = np.array(public_test_df[\"emotion\"])\n",
        "\n",
        "x_val.shape, y_val.shape"
      ],
      "execution_count": 0,
      "outputs": [
        {
          "output_type": "execute_result",
          "data": {
            "text/plain": [
              "((3589, 2304), (3589,))"
            ]
          },
          "metadata": {
            "tags": []
          },
          "execution_count": 9
        }
      ]
    },
    {
      "cell_type": "code",
      "metadata": {
        "id": "7AceOsR8pQrq",
        "colab_type": "code",
        "outputId": "d9aa476a-7e6b-46b7-be1f-3ec660d92766",
        "colab": {
          "base_uri": "https://localhost:8080/",
          "height": 34
        }
      },
      "source": [
        "#Data in usable format\n",
        "x_train = x_train.reshape(-1, 48, 48, 1)\n",
        "x_val = x_val.reshape(-1, 48, 48, 1)\n",
        "x_train.shape, x_val.shape"
      ],
      "execution_count": 0,
      "outputs": [
        {
          "output_type": "execute_result",
          "data": {
            "text/plain": [
              "((28709, 48, 48, 1), (3589, 48, 48, 1))"
            ]
          },
          "metadata": {
            "tags": []
          },
          "execution_count": 10
        }
      ]
    },
    {
      "cell_type": "code",
      "metadata": {
        "id": "TYcNDyGRpQrt",
        "colab_type": "code",
        "outputId": "a9f50e49-935e-4ca6-d283-b12ae2ed37da",
        "colab": {
          "base_uri": "https://localhost:8080/",
          "height": 34
        }
      },
      "source": [
        "x_train[2870].shape"
      ],
      "execution_count": 0,
      "outputs": [
        {
          "output_type": "execute_result",
          "data": {
            "text/plain": [
              "(48, 48, 1)"
            ]
          },
          "metadata": {
            "tags": []
          },
          "execution_count": 11
        }
      ]
    },
    {
      "cell_type": "code",
      "metadata": {
        "id": "xkpDruzYpQrw",
        "colab_type": "code",
        "outputId": "3f79eb3c-d1bc-4265-9239-a3374dc9ba75",
        "colab": {
          "base_uri": "https://localhost:8080/",
          "height": 34
        }
      },
      "source": [
        "y_train = np_utils.to_categorical(y_train)\n",
        "y_val = np_utils.to_categorical(y_val)\n",
        "y_train.shape, y_val.shape"
      ],
      "execution_count": 0,
      "outputs": [
        {
          "output_type": "execute_result",
          "data": {
            "text/plain": [
              "((28709, 7), (3589, 7))"
            ]
          },
          "metadata": {
            "tags": []
          },
          "execution_count": 12
        }
      ]
    },
    {
      "cell_type": "code",
      "metadata": {
        "id": "NhDRauJ7pQrz",
        "colab_type": "code",
        "colab": {}
      },
      "source": [
        ""
      ],
      "execution_count": 0,
      "outputs": []
    },
    {
      "cell_type": "code",
      "metadata": {
        "id": "Oid4Mdc5pQr3",
        "colab_type": "code",
        "outputId": "b6bba49f-eaea-4ac5-b494-ebeb9dfa52de",
        "colab": {
          "base_uri": "https://localhost:8080/",
          "height": 662
        }
      },
      "source": [
        "#Here we are going to display the data\n",
        "# TO See how it looks like\n",
        "# Earlier we re-format the data and each image dimension = (48,48,1)\n",
        "plt.figure(figsize=(10,10))\n",
        "for i in range(25):\n",
        "    plt.subplot(5,5,i+1)\n",
        "    plt.xticks([])\n",
        "    plt.yticks([])\n",
        "    plt.grid(False)\n",
        "    # matplot lib's plt need this to be squeezed into (48,48); otherwise it will show an error.\n",
        "    plt.imshow(np.squeeze(x_train[i]), cmap='gray')\n",
        "    plt.xlabel(y_train[i])\n",
        "plt.show"
      ],
      "execution_count": 0,
      "outputs": [
        {
          "output_type": "stream",
          "text": [
            "/usr/local/lib/python3.6/dist-packages/matplotlib/text.py:1150: FutureWarning: elementwise comparison failed; returning scalar instead, but in the future will perform elementwise comparison\n",
            "  if s != self._text:\n"
          ],
          "name": "stderr"
        },
        {
          "output_type": "execute_result",
          "data": {
            "text/plain": [
              "<function matplotlib.pyplot.show>"
            ]
          },
          "metadata": {
            "tags": []
          },
          "execution_count": 13
        },
        {
          "output_type": "display_data",
          "data": {
            "image/png": "[encoded data removed]",
            "text/plain": [
              "<Figure size 720x720 with 25 Axes>"
            ]
          },
          "metadata": {
            "tags": []
          }
        }
      ]
    },
    {
      "cell_type": "code",
      "metadata": {
        "id": "1SZDgymFpQr6",
        "colab_type": "code",
        "colab": {}
      },
      "source": [
        "num_features = 64\n",
        "num_labels = 7\n",
        "batch_size = 64\n",
        "epochs = 60\n",
        "height = 48 \n",
        "width =48"
      ],
      "execution_count": 0,
      "outputs": []
    },
    {
      "cell_type": "markdown",
      "metadata": {
        "id": "Ni_-RCvKpQr9",
        "colab_type": "text"
      },
      "source": [
        "A NN with a couple of convolutional and maxpooling layers. This gives an idea on the amount of accuracy we can strive to acheive and efforts we should put in pre-processing. "
      ]
    },
    {
      "cell_type": "code",
      "metadata": {
        "id": "jUxlERHlpQr_",
        "colab_type": "code",
        "colab": {}
      },
      "source": [
        "model0 = keras.Sequential ([\n",
        "    keras.layers.Conv2D(32, (3,3), activation='relu', input_shape=(height, width,1)),\n",
        "    keras.layers.MaxPooling2D(2,2),\n",
        "    keras.layers.Conv2D(64, (3,3), activation='relu'),\n",
        "    keras.layers.MaxPooling2D(2,2),\n",
        "    keras.layers.Conv2D(128, (3,3), activation='relu'),\n",
        "    keras.layers.Flatten(),\n",
        "    keras.layers.Dense(128, activation='relu'),\n",
        "    keras.layers.Dense(7, activation='sigmoid')\n",
        "])"
      ],
      "execution_count": 0,
      "outputs": []
    },
    {
      "cell_type": "code",
      "metadata": {
        "id": "QqIYjlZapQsC",
        "colab_type": "code",
        "outputId": "a4d1e87d-5b21-4edd-d5ee-bb33d0ffaee7",
        "colab": {
          "base_uri": "https://localhost:8080/",
          "height": 443
        }
      },
      "source": [
        "model0.summary()"
      ],
      "execution_count": 0,
      "outputs": [
        {
          "output_type": "stream",
          "text": [
            "Model: \"sequential\"\n",
            "_________________________________________________________________\n",
            "Layer (type)                 Output Shape              Param #   \n",
            "=================================================================\n",
            "conv2d (Conv2D)              (None, 46, 46, 32)        320       \n",
            "_________________________________________________________________\n",
            "max_pooling2d (MaxPooling2D) (None, 23, 23, 32)        0         \n",
            "_________________________________________________________________\n",
            "conv2d_1 (Conv2D)            (None, 21, 21, 64)        18496     \n",
            "_________________________________________________________________\n",
            "max_pooling2d_1 (MaxPooling2 (None, 10, 10, 64)        0         \n",
            "_________________________________________________________________\n",
            "conv2d_2 (Conv2D)            (None, 8, 8, 128)         73856     \n",
            "_________________________________________________________________\n",
            "flatten (Flatten)            (None, 8192)              0         \n",
            "_________________________________________________________________\n",
            "dense (Dense)                (None, 128)               1048704   \n",
            "_________________________________________________________________\n",
            "dense_1 (Dense)              (None, 7)                 903       \n",
            "=================================================================\n",
            "Total params: 1,142,279\n",
            "Trainable params: 1,142,279\n",
            "Non-trainable params: 0\n",
            "_________________________________________________________________\n"
          ],
          "name": "stdout"
        }
      ]
    },
    {
      "cell_type": "code",
      "metadata": {
        "id": "JwmoTWqRpQsF",
        "colab_type": "code",
        "colab": {}
      },
      "source": [
        "#model.compile(loss=categorical_crossentropy, optimizer=Adam(lr=0.001, beta_1=0.9, beta_2=0.999, epsilon=1e-7),metrics=['accuracy'])\n",
        "model0.compile(optimizer='adam',\n",
        "              loss='categorical_crossentropy',\n",
        "              metrics=['accuracy'])"
      ],
      "execution_count": 0,
      "outputs": []
    },
    {
      "cell_type": "code",
      "metadata": {
        "id": "jVhj4cMO-ayp",
        "colab_type": "code",
        "outputId": "16b54259-32fd-4bb1-a46b-e9011b95ec95",
        "colab": {
          "base_uri": "https://localhost:8080/",
          "height": 427
        }
      },
      "source": [
        "model0.fit(x_train, y_train, batch_size=batch_size, epochs=10, verbose=1, validation_data=(x_val, y_val), shuffle=True)"
      ],
      "execution_count": 0,
      "outputs": [
        {
          "output_type": "stream",
          "text": [
            "Train on 28709 samples, validate on 3589 samples\n",
            "Epoch 1/10\n",
            "28709/28709 [==============================] - 3s 99us/sample - loss: 11.3752 - accuracy: 0.1392 - val_loss: 11.3045 - val_accuracy: 0.1301\n",
            "Epoch 2/10\n",
            "28709/28709 [==============================] - 3s 101us/sample - loss: 11.3752 - accuracy: 0.1392 - val_loss: 11.3045 - val_accuracy: 0.1301\n",
            "Epoch 3/10\n",
            "28709/28709 [==============================] - 3s 100us/sample - loss: 11.3752 - accuracy: 0.1392 - val_loss: 11.3045 - val_accuracy: 0.1301\n",
            "Epoch 4/10\n",
            "28709/28709 [==============================] - 3s 101us/sample - loss: 11.3752 - accuracy: 0.1392 - val_loss: 11.3045 - val_accuracy: 0.1301\n",
            "Epoch 5/10\n",
            "28709/28709 [==============================] - 3s 101us/sample - loss: 11.3752 - accuracy: 0.1392 - val_loss: 11.3045 - val_accuracy: 0.1301\n",
            "Epoch 6/10\n",
            "28709/28709 [==============================] - 3s 102us/sample - loss: 11.3752 - accuracy: 0.1392 - val_loss: 11.3045 - val_accuracy: 0.1301\n",
            "Epoch 7/10\n",
            "28709/28709 [==============================] - 3s 101us/sample - loss: 11.3752 - accuracy: 0.1392 - val_loss: 11.3045 - val_accuracy: 0.1301\n",
            "Epoch 8/10\n",
            "28709/28709 [==============================] - 3s 101us/sample - loss: 11.3752 - accuracy: 0.1392 - val_loss: 11.3045 - val_accuracy: 0.1301\n",
            "Epoch 9/10\n",
            "28709/28709 [==============================] - 3s 101us/sample - loss: 11.3752 - accuracy: 0.1392 - val_loss: 11.3045 - val_accuracy: 0.1301\n",
            "Epoch 10/10\n",
            "28709/28709 [==============================] - 3s 101us/sample - loss: 11.3752 - accuracy: 0.1392 - val_loss: 11.3045 - val_accuracy: 0.1301\n"
          ],
          "name": "stdout"
        },
        {
          "output_type": "execute_result",
          "data": {
            "text/plain": [
              "<tensorflow.python.keras.callbacks.History at 0x7fd682f6d208>"
            ]
          },
          "metadata": {
            "tags": []
          },
          "execution_count": 21
        }
      ]
    },
    {
      "cell_type": "code",
      "metadata": {
        "id": "V6lW0S1NpQsI",
        "colab_type": "code",
        "colab": {}
      },
      "source": [
        "#Let's c if we can have some impact with augmentation\n",
        "from keras.preprocessing.image import ImageDataGenerator\n",
        "aug = ImageDataGenerator(rotation_range=10, width_shift_range=0.1,\n",
        "                         height_shift_range=0.1, shear_range=0.1, zoom_range=0.1,\n",
        "                         horizontal_flip=True, fill_mode=\"nearest\")"
      ],
      "execution_count": 0,
      "outputs": []
    },
    {
      "cell_type": "code",
      "metadata": {
        "id": "w2sAaWQ3pQsL",
        "colab_type": "code",
        "outputId": "6024ca80-affb-4416-af6a-79cd29feb64c",
        "colab": {
          "base_uri": "https://localhost:8080/",
          "height": 372
        }
      },
      "source": [
        "# run model\n",
        "hist = model0.fit_generator( aug.flow(x_train, y_train, batch_size=batch_size), epochs=10,\n",
        "                 shuffle=True,\n",
        "                 steps_per_epoch=len(x_train) // batch_size,\n",
        "                 validation_data=(x_val, y_val),\n",
        "                 verbose=1)"
      ],
      "execution_count": 0,
      "outputs": [
        {
          "output_type": "stream",
          "text": [
            "Epoch 1/10\n",
            "448/448 [==============================] - 22s 49ms/step - loss: 11.3776 - accuracy: 0.1390 - val_loss: 11.1828 - val_accuracy: 0.1301\n",
            "Epoch 2/10\n",
            "448/448 [==============================] - 22s 48ms/step - loss: 11.3718 - accuracy: 0.1393 - val_loss: 11.1827 - val_accuracy: 0.1301\n",
            "Epoch 3/10\n",
            "448/448 [==============================] - 22s 48ms/step - loss: 11.3774 - accuracy: 0.1389 - val_loss: 11.1827 - val_accuracy: 0.1301\n",
            "Epoch 4/10\n",
            "448/448 [==============================] - 22s 50ms/step - loss: 11.3665 - accuracy: 0.1395 - val_loss: 11.1828 - val_accuracy: 0.1301\n",
            "Epoch 5/10\n",
            "448/448 [==============================] - 23s 51ms/step - loss: 11.3716 - accuracy: 0.1396 - val_loss: 11.1828 - val_accuracy: 0.1301\n",
            "Epoch 6/10\n",
            "448/448 [==============================] - 23s 51ms/step - loss: 11.3905 - accuracy: 0.1387 - val_loss: 11.1828 - val_accuracy: 0.1301\n",
            "Epoch 7/10\n",
            "448/448 [==============================] - 22s 48ms/step - loss: 11.3628 - accuracy: 0.1394 - val_loss: 11.1828 - val_accuracy: 0.1301\n",
            "Epoch 8/10\n",
            "448/448 [==============================] - 22s 48ms/step - loss: 11.3783 - accuracy: 0.1392 - val_loss: 11.1828 - val_accuracy: 0.1301\n",
            "Epoch 9/10\n",
            "448/448 [==============================] - 21s 48ms/step - loss: 11.3701 - accuracy: 0.1392 - val_loss: 11.1828 - val_accuracy: 0.1301\n",
            "Epoch 10/10\n",
            "448/448 [==============================] - 21s 48ms/step - loss: 11.3872 - accuracy: 0.1386 - val_loss: 11.1827 - val_accuracy: 0.1301\n"
          ],
          "name": "stdout"
        }
      ]
    },
    {
      "cell_type": "markdown",
      "metadata": {
        "id": "w2JL2EhxdAfX",
        "colab_type": "text"
      },
      "source": [
        "Let's use apopular approach to tackle the proble. This network design is inspired from an online article with a little bit of tweaking.\n"
      ]
    },
    {
      "cell_type": "code",
      "metadata": {
        "id": "fhX2bCxhc_OT",
        "colab_type": "code",
        "colab": {}
      },
      "source": [
        "model = keras.Sequential ([\n",
        "    keras.layers.Conv2D(num_features, kernel_size=(3, 3), activation='relu', input_shape=(48, 48, 1)),\n",
        "    keras.layers.Conv2D(num_features, kernel_size=(3, 3), activation='relu'),\n",
        "    keras.layers.BatchNormalization(),\n",
        "    #keras.layers.MaxPooling2D(pool_size=(2, 2)),\n",
        "    keras.layers.Dropout(0.5),\n",
        "    keras.layers.Conv2D(2*num_features, kernel_size=(3, 3), activation='relu'),\n",
        "    keras.layers.BatchNormalization(),\n",
        "    keras.layers.Conv2D(2*num_features, kernel_size=(3, 3), activation='relu'),\n",
        "    keras.layers.BatchNormalization(),\n",
        "    keras.layers.MaxPooling2D(pool_size=(2, 2)),\n",
        "    keras.layers.Dropout(0.5),\n",
        "    keras.layers.Conv2D(2*2*num_features, kernel_size=(3, 3), activation='relu'),\n",
        "    keras.layers.BatchNormalization(),\n",
        "    keras.layers.Conv2D(2*2*num_features, kernel_size=(3, 3), activation='relu'),\n",
        "    keras.layers.BatchNormalization(),\n",
        "    keras.layers.MaxPooling2D(pool_size=(2, 2)),\n",
        "    keras.layers.Dropout(0.5),\n",
        "    keras.layers.Conv2D(2*2*2*num_features, kernel_size=(3, 3), activation='relu'),\n",
        "    keras.layers.BatchNormalization(),\n",
        "    keras.layers.Conv2D(2*2*2*num_features, kernel_size=(3, 3), activation='relu'),\n",
        "    keras.layers.BatchNormalization(),\n",
        "    #keras.layers.MaxPooling2D(pool_size=(2, 2)),\n",
        "    keras.layers.Dropout(0.5),\n",
        "    keras.layers.Flatten(),\n",
        "    keras.layers.Dense(2*2*2*num_features, activation='relu'),\n",
        "    keras.layers.Dropout(0.4),\n",
        "    keras.layers.Dense(2*2*num_features, activation='relu'),\n",
        "    keras.layers.Dropout(0.4),\n",
        "    keras.layers.Dense(2*num_features, activation='relu'),\n",
        "    keras.layers.Dropout(0.5),\n",
        "    keras.layers.Dense(7, activation='softmax')\n",
        "])"
      ],
      "execution_count": 0,
      "outputs": []
    },
    {
      "cell_type": "code",
      "metadata": {
        "id": "0qO0SBb2zR6r",
        "colab_type": "code",
        "colab": {}
      },
      "source": [
        "model.compile(optimizer='adam',\n",
        "              loss='categorical_crossentropy',\n",
        "              metrics=['accuracy'])"
      ],
      "execution_count": 0,
      "outputs": []
    },
    {
      "cell_type": "code",
      "metadata": {
        "id": "1C9AXLoN1Ucv",
        "colab_type": "code",
        "outputId": "18caa67b-bffd-42b6-8736-ae188d196f16",
        "colab": {
          "base_uri": "https://localhost:8080/",
          "height": 1000
        }
      },
      "source": [
        "model.fit(x_train, y_train, batch_size=batch_size, epochs=epochs, verbose=1, validation_data=(x_val, y_val), shuffle=True)"
      ],
      "execution_count": 0,
      "outputs": [
        {
          "output_type": "stream",
          "text": [
            "Train on 28709 samples, validate on 3589 samples\n",
            "Epoch 1/60\n",
            "28709/28709 [==============================] - 19s 654us/sample - loss: 1.8040 - accuracy: 0.2563 - val_loss: 1.7433 - val_accuracy: 0.2940\n",
            "Epoch 2/60\n",
            "28709/28709 [==============================] - 19s 653us/sample - loss: 1.7113 - accuracy: 0.3054 - val_loss: 1.6352 - val_accuracy: 0.3527\n",
            "Epoch 3/60\n",
            "28709/28709 [==============================] - 19s 653us/sample - loss: 1.6083 - accuracy: 0.3548 - val_loss: 1.5607 - val_accuracy: 0.3809\n",
            "Epoch 4/60\n",
            "28709/28709 [==============================] - 19s 654us/sample - loss: 1.5195 - accuracy: 0.3973 - val_loss: 1.5285 - val_accuracy: 0.4096\n",
            "Epoch 5/60\n",
            "28709/28709 [==============================] - 19s 653us/sample - loss: 1.4547 - accuracy: 0.4297 - val_loss: 1.4185 - val_accuracy: 0.4645\n",
            "Epoch 6/60\n",
            "28709/28709 [==============================] - 19s 656us/sample - loss: 1.4089 - accuracy: 0.4558 - val_loss: 1.3243 - val_accuracy: 0.4870\n",
            "Epoch 7/60\n",
            "28709/28709 [==============================] - 19s 654us/sample - loss: 1.3652 - accuracy: 0.4773 - val_loss: 1.3410 - val_accuracy: 0.4692\n",
            "Epoch 8/60\n",
            "28709/28709 [==============================] - 19s 654us/sample - loss: 1.3320 - accuracy: 0.4883 - val_loss: 1.2378 - val_accuracy: 0.5294\n",
            "Epoch 9/60\n",
            "28709/28709 [==============================] - 19s 655us/sample - loss: 1.3018 - accuracy: 0.5051 - val_loss: 1.2873 - val_accuracy: 0.5057\n",
            "Epoch 10/60\n",
            "28709/28709 [==============================] - 19s 665us/sample - loss: 1.2606 - accuracy: 0.5263 - val_loss: 1.2630 - val_accuracy: 0.5188\n",
            "Epoch 11/60\n",
            "28709/28709 [==============================] - 19s 669us/sample - loss: 1.2396 - accuracy: 0.5360 - val_loss: 1.1788 - val_accuracy: 0.5592\n",
            "Epoch 12/60\n",
            "28709/28709 [==============================] - 19s 664us/sample - loss: 1.2044 - accuracy: 0.5495 - val_loss: 1.1718 - val_accuracy: 0.5531\n",
            "Epoch 13/60\n",
            "28709/28709 [==============================] - 19s 659us/sample - loss: 1.1729 - accuracy: 0.5638 - val_loss: 1.1870 - val_accuracy: 0.5623\n",
            "Epoch 14/60\n",
            "28709/28709 [==============================] - 19s 658us/sample - loss: 1.1488 - accuracy: 0.5762 - val_loss: 1.1968 - val_accuracy: 0.5450\n",
            "Epoch 15/60\n",
            "28709/28709 [==============================] - 19s 657us/sample - loss: 1.1222 - accuracy: 0.5898 - val_loss: 1.1716 - val_accuracy: 0.5793\n",
            "Epoch 16/60\n",
            "28709/28709 [==============================] - 19s 657us/sample - loss: 1.0840 - accuracy: 0.6007 - val_loss: 1.1456 - val_accuracy: 0.5779\n",
            "Epoch 17/60\n",
            "28709/28709 [==============================] - 19s 656us/sample - loss: 1.0548 - accuracy: 0.6132 - val_loss: 1.1608 - val_accuracy: 0.5748\n",
            "Epoch 18/60\n",
            "28709/28709 [==============================] - 19s 658us/sample - loss: 1.0330 - accuracy: 0.6215 - val_loss: 1.1499 - val_accuracy: 0.5993\n",
            "Epoch 19/60\n",
            "28709/28709 [==============================] - 19s 656us/sample - loss: 0.9992 - accuracy: 0.6364 - val_loss: 1.1312 - val_accuracy: 0.5965\n",
            "Epoch 20/60\n",
            "28709/28709 [==============================] - 19s 655us/sample - loss: 0.9699 - accuracy: 0.6497 - val_loss: 1.1451 - val_accuracy: 0.5862\n",
            "Epoch 21/60\n",
            "28709/28709 [==============================] - 19s 661us/sample - loss: 0.9440 - accuracy: 0.6553 - val_loss: 1.1582 - val_accuracy: 0.6049\n",
            "Epoch 22/60\n",
            "28709/28709 [==============================] - 19s 664us/sample - loss: 0.9153 - accuracy: 0.6692 - val_loss: 1.1483 - val_accuracy: 0.6013\n",
            "Epoch 23/60\n",
            "28709/28709 [==============================] - 19s 667us/sample - loss: 0.8888 - accuracy: 0.6754 - val_loss: 1.1549 - val_accuracy: 0.5885\n",
            "Epoch 24/60\n",
            "28709/28709 [==============================] - 19s 675us/sample - loss: 0.8583 - accuracy: 0.6865 - val_loss: 1.2055 - val_accuracy: 0.6043\n",
            "Epoch 25/60\n",
            "28709/28709 [==============================] - 19s 668us/sample - loss: 0.8394 - accuracy: 0.6971 - val_loss: 1.1677 - val_accuracy: 0.6099\n",
            "Epoch 26/60\n",
            "28709/28709 [==============================] - 19s 664us/sample - loss: 0.8205 - accuracy: 0.7069 - val_loss: 1.1940 - val_accuracy: 0.6108\n",
            "Epoch 27/60\n",
            "28709/28709 [==============================] - 19s 661us/sample - loss: 0.7982 - accuracy: 0.7140 - val_loss: 1.2135 - val_accuracy: 0.6063\n",
            "Epoch 28/60\n",
            "28709/28709 [==============================] - 20s 680us/sample - loss: 0.7612 - accuracy: 0.7283 - val_loss: 1.2127 - val_accuracy: 0.6032\n",
            "Epoch 29/60\n",
            "28709/28709 [==============================] - 19s 674us/sample - loss: 0.7537 - accuracy: 0.7331 - val_loss: 1.2021 - val_accuracy: 0.6177\n",
            "Epoch 30/60\n",
            "28709/28709 [==============================] - 19s 657us/sample - loss: 0.7259 - accuracy: 0.7444 - val_loss: 1.2277 - val_accuracy: 0.6085\n",
            "Epoch 31/60\n",
            "28709/28709 [==============================] - 19s 656us/sample - loss: 0.7095 - accuracy: 0.7517 - val_loss: 1.1914 - val_accuracy: 0.6138\n",
            "Epoch 32/60\n",
            "28709/28709 [==============================] - 19s 653us/sample - loss: 0.6896 - accuracy: 0.7584 - val_loss: 1.2591 - val_accuracy: 0.6096\n",
            "Epoch 33/60\n",
            "28709/28709 [==============================] - 19s 659us/sample - loss: 0.6548 - accuracy: 0.7714 - val_loss: 1.2842 - val_accuracy: 0.6213\n",
            "Epoch 34/60\n",
            "28709/28709 [==============================] - 19s 657us/sample - loss: 0.6431 - accuracy: 0.7747 - val_loss: 1.2568 - val_accuracy: 0.6191\n",
            "Epoch 35/60\n",
            "28709/28709 [==============================] - 19s 651us/sample - loss: 0.6219 - accuracy: 0.7832 - val_loss: 1.3084 - val_accuracy: 0.6197\n",
            "Epoch 36/60\n",
            "28709/28709 [==============================] - 19s 652us/sample - loss: 0.6196 - accuracy: 0.7829 - val_loss: 1.3470 - val_accuracy: 0.6205\n",
            "Epoch 37/60\n",
            "28709/28709 [==============================] - 19s 654us/sample - loss: 0.5941 - accuracy: 0.7988 - val_loss: 1.3527 - val_accuracy: 0.6158\n",
            "Epoch 38/60\n",
            "28709/28709 [==============================] - 19s 654us/sample - loss: 0.5817 - accuracy: 0.7996 - val_loss: 1.3303 - val_accuracy: 0.6208\n",
            "Epoch 39/60\n",
            "28709/28709 [==============================] - 19s 656us/sample - loss: 0.5559 - accuracy: 0.8092 - val_loss: 1.3664 - val_accuracy: 0.6205\n",
            "Epoch 40/60\n",
            "28709/28709 [==============================] - 19s 654us/sample - loss: 0.5515 - accuracy: 0.8113 - val_loss: 1.3219 - val_accuracy: 0.6239\n",
            "Epoch 41/60\n",
            "28709/28709 [==============================] - 19s 652us/sample - loss: 0.5435 - accuracy: 0.8174 - val_loss: 1.3460 - val_accuracy: 0.6222\n",
            "Epoch 42/60\n",
            "28709/28709 [==============================] - 19s 654us/sample - loss: 0.5212 - accuracy: 0.8228 - val_loss: 1.4220 - val_accuracy: 0.6239\n",
            "Epoch 43/60\n",
            "28709/28709 [==============================] - 19s 652us/sample - loss: 0.5148 - accuracy: 0.8251 - val_loss: 1.4458 - val_accuracy: 0.6227\n",
            "Epoch 44/60\n",
            "28709/28709 [==============================] - 19s 652us/sample - loss: 0.4872 - accuracy: 0.8332 - val_loss: 1.4738 - val_accuracy: 0.6328\n",
            "Epoch 45/60\n",
            "28709/28709 [==============================] - 19s 652us/sample - loss: 0.5013 - accuracy: 0.8306 - val_loss: 1.3768 - val_accuracy: 0.6199\n",
            "Epoch 46/60\n",
            "28709/28709 [==============================] - 19s 653us/sample - loss: 0.4856 - accuracy: 0.8356 - val_loss: 1.4281 - val_accuracy: 0.6308\n",
            "Epoch 47/60\n",
            "28709/28709 [==============================] - 19s 652us/sample - loss: 0.4668 - accuracy: 0.8467 - val_loss: 1.3911 - val_accuracy: 0.6225\n",
            "Epoch 48/60\n",
            "28709/28709 [==============================] - 19s 652us/sample - loss: 0.4583 - accuracy: 0.8451 - val_loss: 1.5486 - val_accuracy: 0.6213\n",
            "Epoch 49/60\n",
            "28709/28709 [==============================] - 19s 650us/sample - loss: 0.4243 - accuracy: 0.8566 - val_loss: 1.5704 - val_accuracy: 0.6227\n",
            "Epoch 50/60\n",
            "28709/28709 [==============================] - 19s 653us/sample - loss: 0.4441 - accuracy: 0.8548 - val_loss: 1.5148 - val_accuracy: 0.6222\n",
            "Epoch 51/60\n",
            "28709/28709 [==============================] - 19s 652us/sample - loss: 0.4200 - accuracy: 0.8631 - val_loss: 1.4934 - val_accuracy: 0.6275\n",
            "Epoch 52/60\n",
            "28709/28709 [==============================] - 19s 651us/sample - loss: 0.4203 - accuracy: 0.8610 - val_loss: 1.4613 - val_accuracy: 0.6135\n",
            "Epoch 53/60\n",
            "28709/28709 [==============================] - 19s 651us/sample - loss: 0.4159 - accuracy: 0.8640 - val_loss: 1.3821 - val_accuracy: 0.6225\n",
            "Epoch 54/60\n",
            "28709/28709 [==============================] - 19s 652us/sample - loss: 0.4022 - accuracy: 0.8695 - val_loss: 1.5485 - val_accuracy: 0.6319\n",
            "Epoch 55/60\n",
            "28709/28709 [==============================] - 19s 654us/sample - loss: 0.3894 - accuracy: 0.8761 - val_loss: 1.4824 - val_accuracy: 0.6266\n",
            "Epoch 56/60\n",
            "28709/28709 [==============================] - 19s 655us/sample - loss: 0.3873 - accuracy: 0.8756 - val_loss: 1.5658 - val_accuracy: 0.6350\n",
            "Epoch 57/60\n",
            "28709/28709 [==============================] - 19s 652us/sample - loss: 0.3794 - accuracy: 0.8779 - val_loss: 1.5184 - val_accuracy: 0.6230\n",
            "Epoch 58/60\n",
            "28709/28709 [==============================] - 19s 652us/sample - loss: 0.3692 - accuracy: 0.8804 - val_loss: 1.5703 - val_accuracy: 0.6266\n",
            "Epoch 59/60\n",
            "28709/28709 [==============================] - 19s 652us/sample - loss: 0.3696 - accuracy: 0.8813 - val_loss: 1.6852 - val_accuracy: 0.6297\n",
            "Epoch 60/60\n",
            "28709/28709 [==============================] - 19s 651us/sample - loss: 0.3532 - accuracy: 0.8878 - val_loss: 1.6886 - val_accuracy: 0.6244\n"
          ],
          "name": "stdout"
        },
        {
          "output_type": "execute_result",
          "data": {
            "text/plain": [
              "<tensorflow.python.keras.callbacks.History at 0x7f730d9986a0>"
            ]
          },
          "metadata": {
            "tags": []
          },
          "execution_count": 19
        }
      ]
    },
    {
      "cell_type": "markdown",
      "metadata": {
        "id": "JMX10xPcpQsO",
        "colab_type": "text"
      },
      "source": [
        "#Now preprocessing for Transfer Learning.\n",
        "Networks like resnet, densenet, vgg etc are trained on rgb image. Fer is a gray scale image they expect a 3dimenional image and usually in a greater size. Increasing size of the image might lead to decreased accuracy but this is the trade-odd we will have to bear with this dataset."
      ]
    },
    {
      "cell_type": "code",
      "metadata": {
        "id": "OgxSaB8bpQsP",
        "colab_type": "code",
        "outputId": "fe2ec7a8-75bf-4daf-9f0f-1968bccc05a6",
        "colab": {
          "base_uri": "https://localhost:8080/",
          "height": 87
        }
      },
      "source": [
        "#Making photos 3-dimensional.\n",
        "print ('before the shape is {}'.format(x_train.shape))\n",
        "tChannel = np.squeeze(x_train)\n",
        "tChannel = np.repeat(tChannel[..., np.newaxis],3,-1)\n",
        "print ('After the shape is {}'.format(tChannel.shape))\n",
        "\n",
        "'''\n",
        "#TF's method to decrease overall size. \n",
        "sI=tf.image.grayscale_to_rgb(\n",
        "    tf.convert_to_tensor(x_train),\n",
        "    name=None\n",
        ")\n",
        "'''\n",
        "#############################################\n",
        "#valiation set to 3-dimensions\n",
        "#Making photos 3-dimensional.\n",
        "print ('before the shape is {}'.format(x_val.shape))\n",
        "tVal = np.squeeze(x_val)\n",
        "tVal = np.repeat(tVal[..., np.newaxis],3,-1)\n",
        "print ('After the shape is {}'.format(tVal.shape))\n"
      ],
      "execution_count": 0,
      "outputs": [
        {
          "output_type": "stream",
          "text": [
            "before the shape is (28709, 48, 48, 1)\n",
            "After the shape is (28709, 48, 48, 3)\n",
            "before the shape is (3589, 48, 48, 1)\n",
            "After the shape is (3589, 48, 48, 3)\n"
          ],
          "name": "stdout"
        }
      ]
    },
    {
      "cell_type": "code",
      "metadata": {
        "id": "eDPflyA7pQsS",
        "colab_type": "code",
        "outputId": "4f50fbb8-8e27-4e09-ef46-c53e03949ce0",
        "colab": {
          "base_uri": "https://localhost:8080/",
          "height": 52
        }
      },
      "source": [
        "img_height, img_width = 96, 96\n",
        "from skimage.transform import resize\n",
        "nBatch = tf.image.resize(tChannel, [img_height, img_width])\n",
        "print('nBatch size is: {}'.format(nBatch.shape))\n",
        "####################################\n",
        "#resizing the validation set below\n",
        "nValBatch = tf.image.resize(tVal, [img_height, img_width])\n",
        "print('nValBatch size is: {}'.format(nValBatch.shape))"
      ],
      "execution_count": 0,
      "outputs": [
        {
          "output_type": "stream",
          "text": [
            "nBatch size is: (28709, 96, 96, 3)\n",
            "nValBatch size is: (3589, 96, 96, 3)\n"
          ],
          "name": "stdout"
        }
      ]
    },
    {
      "cell_type": "markdown",
      "metadata": {
        "id": "KdJb3PsfpQsW",
        "colab_type": "text"
      },
      "source": [
        "NOW, THAT THE DATA HAS BEEN PROCESSED.\n",
        "*****  USING INCEPTION-V3 FOR THIS NN  ****"
      ]
    },
    {
      "cell_type": "code",
      "metadata": {
        "id": "kRDporDYpQsX",
        "colab_type": "code",
        "colab": {}
      },
      "source": [
        "local_weights_file = \"/content/drive/My Drive/inception_v3_weights_tf_dim_ordering_tf_kernels_notop.h5\""
      ],
      "execution_count": 0,
      "outputs": []
    },
    {
      "cell_type": "code",
      "metadata": {
        "id": "xxuF3qDlpQsc",
        "colab_type": "code",
        "colab": {}
      },
      "source": [
        "from tensorflow.keras.applications.inception_v3 import InceptionV3\n",
        "pre_trained_model = InceptionV3(input_shape = (96, 96, 3), \n",
        "                                include_top = False, \n",
        "                                weights = 'imagenet')\n",
        "\n",
        "pre_trained_model.load_weights(local_weights_file)"
      ],
      "execution_count": 0,
      "outputs": []
    },
    {
      "cell_type": "code",
      "metadata": {
        "id": "0di7BbbSpQsf",
        "colab_type": "code",
        "colab": {}
      },
      "source": [
        "for layer in pre_trained_model.layers:\n",
        "  layer.trainable = False"
      ],
      "execution_count": 0,
      "outputs": []
    },
    {
      "cell_type": "code",
      "metadata": {
        "id": "iCadR8O_pQsi",
        "colab_type": "code",
        "outputId": "c74eb63b-cf85-42c2-9da9-8f77c78687dc",
        "colab": {
          "base_uri": "https://localhost:8080/",
          "height": 34
        }
      },
      "source": [
        "last_layer = pre_trained_model.get_layer('mixed7')\n",
        "print('last layer output shape: ', last_layer.output_shape)\n",
        "last_output = last_layer.output"
      ],
      "execution_count": 0,
      "outputs": [
        {
          "output_type": "stream",
          "text": [
            "last layer output shape:  (None, 4, 4, 768)\n"
          ],
          "name": "stdout"
        }
      ]
    },
    {
      "cell_type": "code",
      "metadata": {
        "id": "4IQ3TfkJpQsl",
        "colab_type": "code",
        "colab": {}
      },
      "source": [
        "# Flatten the output layer to 1 dimension\n",
        "x = tf.keras.layers.Flatten()(last_output)\n",
        "# Add a fully connected layer with 1,024 hidden units and ReLU activation\n",
        "x = tf.keras.layers.Dense(512, activation='relu')(x)\n",
        "# Add BatchNormalization Layer\n",
        "x = tf.keras.layers.BatchNormalization()(x)\n",
        "\n",
        "# Add a dropout rate of 0.2\n",
        "x = tf.keras.layers.Dropout(0.2)(x)     \n",
        "\n",
        "x = tf.keras.layers.Dense(124, activation='relu')(x)\n",
        "\n",
        "# Add a final sigmoid layer for classification\n",
        "x = tf.keras.layers.Dense  (7, activation='softmax')(x)           \n",
        "\n",
        "model = tf.keras.models.Model( pre_trained_model.input, x) \n",
        "\n",
        "model.compile(optimizer = 'adam', \n",
        "              loss = 'categorical_crossentropy', \n",
        "              metrics = ['acc'])\n",
        "\n"
      ],
      "execution_count": 0,
      "outputs": []
    },
    {
      "cell_type": "code",
      "metadata": {
        "id": "dODvrDLmFKLl",
        "colab_type": "code",
        "outputId": "57c7f32b-e547-4b37-f1db-3051e0ea3735",
        "colab": {
          "base_uri": "https://localhost:8080/",
          "height": 1000
        }
      },
      "source": [
        "model.fit(nBatch, y_train, batch_size=batch_size, epochs=epochs, verbose=1, validation_data=(nValBatch, y_val), shuffle=True)"
      ],
      "execution_count": 0,
      "outputs": [
        {
          "output_type": "stream",
          "text": [
            "Train on 28709 samples, validate on 3589 samples\n",
            "Epoch 1/60\n",
            "28709/28709 [==============================] - 19s 665us/sample - loss: 1.5124 - acc: 0.4323 - val_loss: 17.1534 - val_acc: 0.1719\n",
            "Epoch 2/60\n",
            "28709/28709 [==============================] - 14s 474us/sample - loss: 1.2051 - acc: 0.5470 - val_loss: 26.4635 - val_acc: 0.1800\n",
            "Epoch 3/60\n",
            "28709/28709 [==============================] - 14s 474us/sample - loss: 1.0489 - acc: 0.6077 - val_loss: 23.8367 - val_acc: 0.1741\n",
            "Epoch 4/60\n",
            "28709/28709 [==============================] - 14s 475us/sample - loss: 0.9052 - acc: 0.6639 - val_loss: 30.2976 - val_acc: 0.2329\n",
            "Epoch 5/60\n",
            "28709/28709 [==============================] - 14s 474us/sample - loss: 0.7646 - acc: 0.7225 - val_loss: 38.7773 - val_acc: 0.2235\n",
            "Epoch 6/60\n",
            "28709/28709 [==============================] - 14s 475us/sample - loss: 0.6654 - acc: 0.7571 - val_loss: 74.4481 - val_acc: 0.1694\n",
            "Epoch 7/60\n",
            "28709/28709 [==============================] - 14s 473us/sample - loss: 0.5670 - acc: 0.7969 - val_loss: 53.6045 - val_acc: 0.1764\n",
            "Epoch 8/60\n",
            "28709/28709 [==============================] - 14s 474us/sample - loss: 0.4899 - acc: 0.8256 - val_loss: 53.5379 - val_acc: 0.2165\n",
            "Epoch 9/60\n",
            "28709/28709 [==============================] - 14s 475us/sample - loss: 0.4350 - acc: 0.8430 - val_loss: 53.7301 - val_acc: 0.1786\n",
            "Epoch 10/60\n",
            "28709/28709 [==============================] - 14s 482us/sample - loss: 0.3994 - acc: 0.8566 - val_loss: 152.2243 - val_acc: 0.1686\n",
            "Epoch 11/60\n",
            "28709/28709 [==============================] - 14s 475us/sample - loss: 0.3554 - acc: 0.8724 - val_loss: 256.4377 - val_acc: 0.1688\n",
            "Epoch 12/60\n",
            "28709/28709 [==============================] - 14s 474us/sample - loss: 0.3251 - acc: 0.8847 - val_loss: 217.7137 - val_acc: 0.1705\n",
            "Epoch 13/60\n",
            "28709/28709 [==============================] - 14s 476us/sample - loss: 0.3112 - acc: 0.8887 - val_loss: 117.1784 - val_acc: 0.1772\n",
            "Epoch 14/60\n",
            "28709/28709 [==============================] - 14s 473us/sample - loss: 0.2912 - acc: 0.8963 - val_loss: 317.1196 - val_acc: 0.1694\n",
            "Epoch 15/60\n",
            "28709/28709 [==============================] - 14s 475us/sample - loss: 0.2755 - acc: 0.9053 - val_loss: 209.6404 - val_acc: 0.1697\n",
            "Epoch 16/60\n",
            "28709/28709 [==============================] - 14s 475us/sample - loss: 0.2840 - acc: 0.9009 - val_loss: 172.8783 - val_acc: 0.1714\n",
            "Epoch 17/60\n",
            "28709/28709 [==============================] - 14s 474us/sample - loss: 0.2604 - acc: 0.9081 - val_loss: 138.2140 - val_acc: 0.1633\n",
            "Epoch 18/60\n",
            "28709/28709 [==============================] - 14s 474us/sample - loss: 0.2418 - acc: 0.9157 - val_loss: 146.5943 - val_acc: 0.1485\n",
            "Epoch 19/60\n",
            "28709/28709 [==============================] - 14s 474us/sample - loss: 0.2500 - acc: 0.9120 - val_loss: 137.9252 - val_acc: 0.2497\n",
            "Epoch 20/60\n",
            "28709/28709 [==============================] - 14s 473us/sample - loss: 0.2328 - acc: 0.9169 - val_loss: 191.5276 - val_acc: 0.2510\n",
            "Epoch 21/60\n",
            "28709/28709 [==============================] - 14s 476us/sample - loss: 0.2210 - acc: 0.9206 - val_loss: 176.1803 - val_acc: 0.2474\n",
            "Epoch 22/60\n",
            "28709/28709 [==============================] - 14s 473us/sample - loss: 0.2315 - acc: 0.9176 - val_loss: 160.7933 - val_acc: 0.2491\n",
            "Epoch 23/60\n",
            "28709/28709 [==============================] - 14s 474us/sample - loss: 0.2122 - acc: 0.9247 - val_loss: 166.6843 - val_acc: 0.2196\n",
            "Epoch 24/60\n",
            "28709/28709 [==============================] - 14s 475us/sample - loss: 0.2093 - acc: 0.9249 - val_loss: 191.7588 - val_acc: 0.2480\n",
            "Epoch 25/60\n",
            "28709/28709 [==============================] - 14s 475us/sample - loss: 0.2092 - acc: 0.9266 - val_loss: 154.0454 - val_acc: 0.2340\n",
            "Epoch 26/60\n",
            "28709/28709 [==============================] - 14s 475us/sample - loss: 0.1867 - acc: 0.9341 - val_loss: 188.9523 - val_acc: 0.2385\n",
            "Epoch 27/60\n",
            "28709/28709 [==============================] - 14s 473us/sample - loss: 0.1917 - acc: 0.9327 - val_loss: 309.0447 - val_acc: 0.2494\n",
            "Epoch 28/60\n",
            "28709/28709 [==============================] - 14s 475us/sample - loss: 0.1931 - acc: 0.9333 - val_loss: 215.9664 - val_acc: 0.2084\n",
            "Epoch 29/60\n",
            "28709/28709 [==============================] - 14s 472us/sample - loss: 0.1849 - acc: 0.9352 - val_loss: 163.2498 - val_acc: 0.2385\n",
            "Epoch 30/60\n",
            "28709/28709 [==============================] - 14s 474us/sample - loss: 0.1780 - acc: 0.9359 - val_loss: 230.1190 - val_acc: 0.2405\n",
            "Epoch 31/60\n",
            "28709/28709 [==============================] - 14s 474us/sample - loss: 0.1835 - acc: 0.9347 - val_loss: 139.8580 - val_acc: 0.2240\n",
            "Epoch 32/60\n",
            "28709/28709 [==============================] - 14s 476us/sample - loss: 0.1732 - acc: 0.9380 - val_loss: 156.2656 - val_acc: 0.2508\n",
            "Epoch 33/60\n",
            "28709/28709 [==============================] - 14s 481us/sample - loss: 0.1774 - acc: 0.9366 - val_loss: 155.7080 - val_acc: 0.2232\n",
            "Epoch 34/60\n",
            "28709/28709 [==============================] - 14s 474us/sample - loss: 0.1760 - acc: 0.9378 - val_loss: 167.2528 - val_acc: 0.2265\n",
            "Epoch 35/60\n",
            "28709/28709 [==============================] - 14s 475us/sample - loss: 0.1752 - acc: 0.9388 - val_loss: 96.9578 - val_acc: 0.2062\n",
            "Epoch 36/60\n",
            "28709/28709 [==============================] - 14s 474us/sample - loss: 0.1607 - acc: 0.9424 - val_loss: 135.6188 - val_acc: 0.2285\n",
            "Epoch 37/60\n",
            "28709/28709 [==============================] - 14s 478us/sample - loss: 0.1618 - acc: 0.9427 - val_loss: 138.6176 - val_acc: 0.2014\n",
            "Epoch 38/60\n",
            "28709/28709 [==============================] - 14s 475us/sample - loss: 0.1482 - acc: 0.9465 - val_loss: 142.8712 - val_acc: 0.2017\n",
            "Epoch 39/60\n",
            "28709/28709 [==============================] - 14s 474us/sample - loss: 0.1506 - acc: 0.9449 - val_loss: 207.7622 - val_acc: 0.1697\n",
            "Epoch 40/60\n",
            "28709/28709 [==============================] - 14s 474us/sample - loss: 0.1527 - acc: 0.9460 - val_loss: 208.2876 - val_acc: 0.1819\n",
            "Epoch 41/60\n",
            "28709/28709 [==============================] - 14s 476us/sample - loss: 0.1585 - acc: 0.9439 - val_loss: 139.6784 - val_acc: 0.1858\n",
            "Epoch 42/60\n",
            "28709/28709 [==============================] - 14s 475us/sample - loss: 0.1522 - acc: 0.9475 - val_loss: 155.7199 - val_acc: 0.1491\n",
            "Epoch 43/60\n",
            "28709/28709 [==============================] - 14s 474us/sample - loss: 0.1466 - acc: 0.9488 - val_loss: 197.9285 - val_acc: 0.2134\n",
            "Epoch 44/60\n",
            "28709/28709 [==============================] - 14s 475us/sample - loss: 0.1407 - acc: 0.9503 - val_loss: 344.2546 - val_acc: 0.1597\n",
            "Epoch 45/60\n",
            "28709/28709 [==============================] - 14s 473us/sample - loss: 0.1360 - acc: 0.9512 - val_loss: 311.2312 - val_acc: 0.1599\n",
            "Epoch 46/60\n",
            "28709/28709 [==============================] - 14s 475us/sample - loss: 0.1329 - acc: 0.9533 - val_loss: 225.3145 - val_acc: 0.2184\n",
            "Epoch 47/60\n",
            "28709/28709 [==============================] - 14s 474us/sample - loss: 0.1406 - acc: 0.9505 - val_loss: 144.6928 - val_acc: 0.1652\n",
            "Epoch 48/60\n",
            "28709/28709 [==============================] - 14s 476us/sample - loss: 0.1396 - acc: 0.9518 - val_loss: 281.4670 - val_acc: 0.2485\n",
            "Epoch 49/60\n",
            "28709/28709 [==============================] - 14s 476us/sample - loss: 0.1366 - acc: 0.9522 - val_loss: 157.1812 - val_acc: 0.2151\n",
            "Epoch 50/60\n",
            "28709/28709 [==============================] - 14s 475us/sample - loss: 0.1307 - acc: 0.9540 - val_loss: 168.4152 - val_acc: 0.2488\n",
            "Epoch 51/60\n",
            "28709/28709 [==============================] - 14s 474us/sample - loss: 0.1383 - acc: 0.9513 - val_loss: 178.3733 - val_acc: 0.2424\n",
            "Epoch 52/60\n",
            "28709/28709 [==============================] - 14s 476us/sample - loss: 0.1265 - acc: 0.9549 - val_loss: 121.7232 - val_acc: 0.2079\n",
            "Epoch 53/60\n",
            "28709/28709 [==============================] - 14s 474us/sample - loss: 0.1205 - acc: 0.9580 - val_loss: 264.5741 - val_acc: 0.1705\n",
            "Epoch 54/60\n",
            "28709/28709 [==============================] - 14s 474us/sample - loss: 0.1217 - acc: 0.9568 - val_loss: 437.0133 - val_acc: 0.1683\n",
            "Epoch 55/60\n",
            "28709/28709 [==============================] - 14s 479us/sample - loss: 0.1236 - acc: 0.9572 - val_loss: 283.6370 - val_acc: 0.1708\n",
            "Epoch 56/60\n",
            "28709/28709 [==============================] - 14s 479us/sample - loss: 0.1248 - acc: 0.9563 - val_loss: 233.7812 - val_acc: 0.1750\n",
            "Epoch 57/60\n",
            "28709/28709 [==============================] - 14s 475us/sample - loss: 0.1240 - acc: 0.9573 - val_loss: 241.8413 - val_acc: 0.1744\n",
            "Epoch 58/60\n",
            "28709/28709 [==============================] - 14s 474us/sample - loss: 0.1185 - acc: 0.9588 - val_loss: 345.7106 - val_acc: 0.1708\n",
            "Epoch 59/60\n",
            "28709/28709 [==============================] - 14s 477us/sample - loss: 0.1165 - acc: 0.9582 - val_loss: 281.5945 - val_acc: 0.1613\n",
            "Epoch 60/60\n",
            "28709/28709 [==============================] - 14s 476us/sample - loss: 0.1189 - acc: 0.9575 - val_loss: 305.8234 - val_acc: 0.1733\n"
          ],
          "name": "stdout"
        },
        {
          "output_type": "execute_result",
          "data": {
            "text/plain": [
              "<tensorflow.python.keras.callbacks.History at 0x7f3719a23ba8>"
            ]
          },
          "metadata": {
            "tags": []
          },
          "execution_count": 27
        }
      ]
    },
    {
      "cell_type": "markdown",
      "metadata": {
        "id": "8FGqD7NzFgpx",
        "colab_type": "text"
      },
      "source": [
        "Above, Received **95%** accuracy on training set but only **25%** is the maximum score reached on the validation dataset. Let'stry to improve the performance on validation set.\n",
        "\n"
      ]
    },
    {
      "cell_type": "code",
      "metadata": {
        "id": "lL2tCt0YpQsq",
        "colab_type": "code",
        "colab": {}
      },
      "source": [
        "from tensorflow.keras.preprocessing.image import ImageDataGenerator\n",
        "\n",
        "# Add our data-augmentation parameters to ImageDataGenerator\n",
        "train_datagen = ImageDataGenerator(rescale = 1./255.,\n",
        "                                   rotation_range = 10,\n",
        "                                   width_shift_range = 0.1,\n",
        "                                   height_shift_range = 0.1,\n",
        "                                   #shear_range = 0.2,\n",
        "                                   zoom_range = 0.2,\n",
        "                                   horizontal_flip = True,\n",
        "                                   fill_mode = 'nearest')\n",
        "\n",
        "\n",
        "\n",
        "###############\n",
        "test_datagen = ImageDataGenerator(rescale = 1./255.,\n",
        "                                   rotation_range = 10,\n",
        "                                   width_shift_range = 0.1,\n",
        "                                   height_shift_range = 0.1,\n",
        "                                   #shear_range = 0.2,\n",
        "                                   zoom_range = 0.2,\n",
        "                                   horizontal_flip = True,\n",
        "                                   fill_mode = 'nearest')\n"
      ],
      "execution_count": 0,
      "outputs": []
    },
    {
      "cell_type": "code",
      "metadata": {
        "id": "7JXN2QoFRR_f",
        "colab_type": "code",
        "colab": {}
      },
      "source": [
        "model.compile(optimizer = Adam(lr = 1e-3, beta_1 = 0.9, beta_2 = 0.999, epsilon = 1e-08, decay = 0.0),\n",
        "              #tf.keras.optimizers.Adadelta(lr=0.01, rho=0.95, epsilon=1e-06), \n",
        "              loss = 'categorical_crossentropy', \n",
        "              metrics = ['acc'])"
      ],
      "execution_count": 0,
      "outputs": []
    },
    {
      "cell_type": "code",
      "metadata": {
        "id": "k83qlbaPpQst",
        "colab_type": "code",
        "outputId": "4c26c664-74ea-4cfc-bc39-56632b5f0a11",
        "colab": {
          "base_uri": "https://localhost:8080/",
          "height": 1000
        }
      },
      "source": [
        "# run model\n",
        "hist = model.fit_generator( train_datagen.flow(nBatch, y_train, batch_size=batch_size), epochs=epochs,\n",
        "                 shuffle=True,\n",
        "                 steps_per_epoch=len(x_train) // batch_size,\n",
        "                 \n",
        "                 validation_data=test_datagen.flow(nValBatch, y_val),\n",
        "                 verbose=1)"
      ],
      "execution_count": 0,
      "outputs": [
        {
          "output_type": "stream",
          "text": [
            "Epoch 1/60\n",
            "448/448 [==============================] - 141s 315ms/step - loss: 1.3900 - acc: 0.4730 - val_loss: 3.7820 - val_acc: 0.3318\n",
            "Epoch 2/60\n",
            "448/448 [==============================] - 141s 315ms/step - loss: 1.3581 - acc: 0.4831 - val_loss: 4.3436 - val_acc: 0.3227\n",
            "Epoch 3/60\n",
            "448/448 [==============================] - 142s 316ms/step - loss: 1.3439 - acc: 0.4865 - val_loss: 5.0601 - val_acc: 0.3040\n",
            "Epoch 4/60\n",
            "448/448 [==============================] - 141s 314ms/step - loss: 1.3187 - acc: 0.4984 - val_loss: 3.1083 - val_acc: 0.3580\n",
            "Epoch 5/60\n",
            "448/448 [==============================] - 139s 311ms/step - loss: 1.3095 - acc: 0.5007 - val_loss: 2.9527 - val_acc: 0.3569\n",
            "Epoch 6/60\n",
            "448/448 [==============================] - 139s 311ms/step - loss: 1.2979 - acc: 0.5088 - val_loss: 3.4518 - val_acc: 0.3441\n",
            "Epoch 7/60\n",
            "448/448 [==============================] - 138s 309ms/step - loss: 1.2924 - acc: 0.5081 - val_loss: 3.8297 - val_acc: 0.3146\n",
            "Epoch 8/60\n",
            "448/448 [==============================] - 138s 308ms/step - loss: 1.2768 - acc: 0.5129 - val_loss: 3.4651 - val_acc: 0.3497\n",
            "Epoch 9/60\n",
            "448/448 [==============================] - 138s 307ms/step - loss: 1.2685 - acc: 0.5188 - val_loss: 4.2245 - val_acc: 0.3254\n",
            "Epoch 10/60\n",
            "448/448 [==============================] - 138s 307ms/step - loss: 1.2555 - acc: 0.5254 - val_loss: 4.9427 - val_acc: 0.2889\n",
            "Epoch 11/60\n",
            "448/448 [==============================] - 138s 308ms/step - loss: 1.2516 - acc: 0.5255 - val_loss: 4.0373 - val_acc: 0.3104\n",
            "Epoch 12/60\n",
            "448/448 [==============================] - 137s 307ms/step - loss: 1.2480 - acc: 0.5284 - val_loss: 4.5358 - val_acc: 0.3037\n",
            "Epoch 13/60\n",
            "448/448 [==============================] - 136s 303ms/step - loss: 1.2345 - acc: 0.5323 - val_loss: 4.8203 - val_acc: 0.2992\n",
            "Epoch 14/60\n",
            "448/448 [==============================] - 135s 302ms/step - loss: 1.2322 - acc: 0.5364 - val_loss: 4.1670 - val_acc: 0.3135\n",
            "Epoch 15/60\n",
            "448/448 [==============================] - 136s 304ms/step - loss: 1.2223 - acc: 0.5386 - val_loss: 4.8932 - val_acc: 0.3051\n",
            "Epoch 16/60\n",
            "448/448 [==============================] - 135s 302ms/step - loss: 1.2231 - acc: 0.5367 - val_loss: 3.9108 - val_acc: 0.3266\n",
            "Epoch 17/60\n",
            "448/448 [==============================] - 136s 304ms/step - loss: 1.2160 - acc: 0.5405 - val_loss: 3.2256 - val_acc: 0.3469\n",
            "Epoch 18/60\n",
            "448/448 [==============================] - 135s 302ms/step - loss: 1.2077 - acc: 0.5476 - val_loss: 2.9057 - val_acc: 0.3773\n",
            "Epoch 19/60\n",
            "448/448 [==============================] - 135s 300ms/step - loss: 1.2029 - acc: 0.5477 - val_loss: 2.9887 - val_acc: 0.3541\n",
            "Epoch 20/60\n",
            "448/448 [==============================] - 133s 297ms/step - loss: 1.1964 - acc: 0.5479 - val_loss: 3.1311 - val_acc: 0.3522\n",
            "Epoch 21/60\n",
            "448/448 [==============================] - 134s 299ms/step - loss: 1.1916 - acc: 0.5484 - val_loss: 2.4429 - val_acc: 0.3773\n",
            "Epoch 22/60\n",
            "448/448 [==============================] - 134s 300ms/step - loss: 1.1853 - acc: 0.5553 - val_loss: 2.5751 - val_acc: 0.3656\n",
            "Epoch 23/60\n",
            "448/448 [==============================] - 135s 302ms/step - loss: 1.1724 - acc: 0.5566 - val_loss: 2.7969 - val_acc: 0.3720\n",
            "Epoch 24/60\n",
            "448/448 [==============================] - 135s 300ms/step - loss: 1.1771 - acc: 0.5543 - val_loss: 3.0441 - val_acc: 0.3578\n",
            "Epoch 25/60\n",
            "448/448 [==============================] - 135s 300ms/step - loss: 1.1670 - acc: 0.5556 - val_loss: 2.9198 - val_acc: 0.3619\n",
            "Epoch 26/60\n",
            "448/448 [==============================] - 134s 300ms/step - loss: 1.1790 - acc: 0.5582 - val_loss: 2.7021 - val_acc: 0.3644\n",
            "Epoch 27/60\n",
            "448/448 [==============================] - 136s 303ms/step - loss: 1.1715 - acc: 0.5602 - val_loss: 2.9126 - val_acc: 0.3642\n",
            "Epoch 28/60\n",
            "448/448 [==============================] - 136s 303ms/step - loss: 1.1620 - acc: 0.5659 - val_loss: 2.8089 - val_acc: 0.3558\n",
            "Epoch 29/60\n",
            "448/448 [==============================] - 135s 301ms/step - loss: 1.1551 - acc: 0.5669 - val_loss: 2.9237 - val_acc: 0.3592\n",
            "Epoch 30/60\n",
            "448/448 [==============================] - 136s 303ms/step - loss: 1.1502 - acc: 0.5661 - val_loss: 3.0365 - val_acc: 0.3658\n",
            "Epoch 31/60\n",
            "448/448 [==============================] - 137s 306ms/step - loss: 1.1465 - acc: 0.5703 - val_loss: 2.6656 - val_acc: 0.3614\n",
            "Epoch 32/60\n",
            "448/448 [==============================] - 138s 308ms/step - loss: 1.1388 - acc: 0.5692 - val_loss: 3.0180 - val_acc: 0.3536\n",
            "Epoch 33/60\n",
            "448/448 [==============================] - 137s 305ms/step - loss: 1.1364 - acc: 0.5728 - val_loss: 2.8597 - val_acc: 0.3633\n",
            "Epoch 34/60\n",
            "448/448 [==============================] - 136s 304ms/step - loss: 1.1408 - acc: 0.5708 - val_loss: 3.0994 - val_acc: 0.3739\n",
            "Epoch 35/60\n",
            "448/448 [==============================] - 135s 301ms/step - loss: 1.1386 - acc: 0.5748 - val_loss: 3.0572 - val_acc: 0.3711\n",
            "Epoch 36/60\n",
            "448/448 [==============================] - 136s 303ms/step - loss: 1.1292 - acc: 0.5787 - val_loss: 3.2120 - val_acc: 0.3600\n",
            "Epoch 37/60\n",
            "448/448 [==============================] - 135s 302ms/step - loss: 1.1320 - acc: 0.5777 - val_loss: 3.1464 - val_acc: 0.3508\n",
            "Epoch 38/60\n",
            "448/448 [==============================] - 137s 306ms/step - loss: 1.1204 - acc: 0.5783 - val_loss: 3.0051 - val_acc: 0.3455\n",
            "Epoch 39/60\n",
            "448/448 [==============================] - 137s 305ms/step - loss: 1.1282 - acc: 0.5770 - val_loss: 3.6060 - val_acc: 0.3497\n",
            "Epoch 40/60\n",
            "448/448 [==============================] - 139s 310ms/step - loss: 1.1127 - acc: 0.5788 - val_loss: 3.5485 - val_acc: 0.3527\n",
            "Epoch 41/60\n",
            "448/448 [==============================] - 138s 309ms/step - loss: 1.1096 - acc: 0.5875 - val_loss: 4.0186 - val_acc: 0.3452\n",
            "Epoch 42/60\n",
            "448/448 [==============================] - 139s 309ms/step - loss: 1.1156 - acc: 0.5834 - val_loss: 3.7411 - val_acc: 0.3475\n",
            "Epoch 43/60\n",
            "448/448 [==============================] - 138s 308ms/step - loss: 1.1046 - acc: 0.5887 - val_loss: 3.6236 - val_acc: 0.3229\n",
            "Epoch 44/60\n",
            "448/448 [==============================] - 139s 310ms/step - loss: 1.1055 - acc: 0.5851 - val_loss: 3.1756 - val_acc: 0.3469\n",
            "Epoch 45/60\n",
            "448/448 [==============================] - 139s 310ms/step - loss: 1.0976 - acc: 0.5859 - val_loss: 3.1932 - val_acc: 0.3461\n",
            "Epoch 46/60\n",
            "448/448 [==============================] - 138s 308ms/step - loss: 1.1038 - acc: 0.5872 - val_loss: 3.1118 - val_acc: 0.3455\n",
            "Epoch 47/60\n",
            "448/448 [==============================] - 138s 309ms/step - loss: 1.0977 - acc: 0.5837 - val_loss: 3.4220 - val_acc: 0.3344\n",
            "Epoch 48/60\n",
            "448/448 [==============================] - 138s 309ms/step - loss: 1.0928 - acc: 0.5895 - val_loss: 2.9506 - val_acc: 0.3466\n",
            "Epoch 49/60\n",
            "448/448 [==============================] - 139s 310ms/step - loss: 1.0863 - acc: 0.5945 - val_loss: 3.3083 - val_acc: 0.3419\n",
            "Epoch 50/60\n",
            "448/448 [==============================] - 139s 310ms/step - loss: 1.0953 - acc: 0.5899 - val_loss: 3.0593 - val_acc: 0.3369\n",
            "Epoch 51/60\n",
            "448/448 [==============================] - 136s 305ms/step - loss: 1.0894 - acc: 0.5899 - val_loss: 3.2292 - val_acc: 0.3469\n",
            "Epoch 52/60\n",
            "448/448 [==============================] - 134s 299ms/step - loss: 1.0862 - acc: 0.5929 - val_loss: 3.7002 - val_acc: 0.3466\n",
            "Epoch 53/60\n",
            "448/448 [==============================] - 133s 297ms/step - loss: 1.0864 - acc: 0.5933 - val_loss: 3.5791 - val_acc: 0.3366\n",
            "Epoch 54/60\n",
            "448/448 [==============================] - 139s 309ms/step - loss: 1.0796 - acc: 0.5938 - val_loss: 3.3378 - val_acc: 0.3555\n",
            "Epoch 55/60\n",
            "448/448 [==============================] - 137s 306ms/step - loss: 1.0786 - acc: 0.5963 - val_loss: 3.2848 - val_acc: 0.3469\n",
            "Epoch 56/60\n",
            "448/448 [==============================] - 138s 307ms/step - loss: 1.0741 - acc: 0.6005 - val_loss: 3.0163 - val_acc: 0.3653\n",
            "Epoch 57/60\n",
            "448/448 [==============================] - 137s 305ms/step - loss: 1.0797 - acc: 0.5984 - val_loss: 3.1207 - val_acc: 0.3756\n",
            "Epoch 58/60\n",
            "448/448 [==============================] - 138s 307ms/step - loss: 1.0677 - acc: 0.6004 - val_loss: 3.1256 - val_acc: 0.3670\n",
            "Epoch 59/60\n",
            "448/448 [==============================] - 138s 307ms/step - loss: 1.0664 - acc: 0.6027 - val_loss: 3.0137 - val_acc: 0.3555\n",
            "Epoch 60/60\n",
            "448/448 [==============================] - 138s 307ms/step - loss: 1.0593 - acc: 0.6072 - val_loss: 3.1473 - val_acc: 0.3547\n"
          ],
          "name": "stdout"
        }
      ]
    },
    {
      "cell_type": "code",
      "metadata": {
        "id": "Ob8CeJfmYLFg",
        "colab_type": "code",
        "colab": {}
      },
      "source": [
        ""
      ],
      "execution_count": 0,
      "outputs": []
    },
    {
      "cell_type": "markdown",
      "metadata": {
        "id": "usn4PCCuoKNc",
        "colab_type": "text"
      },
      "source": [
        "THINGS TO REMEMBER BASED ONLY ON THIS WORK DONE (NOT CONSIDERING OTHER STUDIES N EXPERIENCE; This help to pick up pieces more quickly):\n",
        "\n",
        "-- It is a competetive dataset. It was released in 2013 and still the highest performing algorithms are somewhere around 70.\n",
        "\n",
        "-- BatchNormalization may improve performance even after flattening.\n",
        "\n",
        "-- (Transfer Learning) Converting greyscale images to 3Dims and increasing resolution is going to hit you really bad. Next time try to use other approaches e.g:\n",
        "\n",
        "\n",
        "1.   consider retraining the 1st layer. Again, not recommended but some people find it to be useful.\n",
        "2. Consider retraining the network and compare the performance)\n",
        "3. SPATIAL Transformer is very next thing you need to implement.\n",
        "\n",
        "\n"
      ]
    },
    {
      "cell_type": "code",
      "metadata": {
        "id": "_mnfXpVJqMvC",
        "colab_type": "code",
        "colab": {}
      },
      "source": [
        ""
      ],
      "execution_count": 0,
      "outputs": []
    }
  ]
}